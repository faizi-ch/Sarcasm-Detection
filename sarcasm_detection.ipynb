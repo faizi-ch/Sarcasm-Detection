{
 "cells": [
  {
   "cell_type": "code",
   "execution_count": 1,
   "metadata": {},
   "outputs": [],
   "source": [
    "import numpy as np\n",
    "import pandas as pd\n",
    "import seaborn as sns\n",
    "import matplotlib.pyplot as plt\n",
    "\n",
    "from sklearn.model_selection import train_test_split\n",
    "from sklearn.feature_extraction.text import TfidfVectorizer\n",
    "from sklearn.linear_model import LogisticRegression\n",
    "from sklearn.neighbors import KNeighborsClassifier\n",
    "from sklearn.metrics import accuracy_score, confusion_matrix, classification_report\n",
    "\n",
    "import torch\n",
    "from torch import nn\n",
    "from torch.optim import Adam, SGD"
   ]
  },
  {
   "cell_type": "code",
   "execution_count": 2,
   "metadata": {},
   "outputs": [],
   "source": [
    "sarcasm_df = pd.read_csv(\"data/train-balanced-sarcasm.csv\")\n"
   ]
  },
  {
   "cell_type": "code",
   "execution_count": 3,
   "metadata": {},
   "outputs": [
    {
     "data": {
      "text/html": [
       "<div>\n",
       "<style scoped>\n",
       "    .dataframe tbody tr th:only-of-type {\n",
       "        vertical-align: middle;\n",
       "    }\n",
       "\n",
       "    .dataframe tbody tr th {\n",
       "        vertical-align: top;\n",
       "    }\n",
       "\n",
       "    .dataframe thead th {\n",
       "        text-align: right;\n",
       "    }\n",
       "</style>\n",
       "<table border=\"1\" class=\"dataframe\">\n",
       "  <thead>\n",
       "    <tr style=\"text-align: right;\">\n",
       "      <th></th>\n",
       "      <th>label</th>\n",
       "      <th>comment</th>\n",
       "      <th>author</th>\n",
       "      <th>subreddit</th>\n",
       "      <th>score</th>\n",
       "      <th>ups</th>\n",
       "      <th>downs</th>\n",
       "      <th>date</th>\n",
       "      <th>created_utc</th>\n",
       "      <th>parent_comment</th>\n",
       "    </tr>\n",
       "  </thead>\n",
       "  <tbody>\n",
       "    <tr>\n",
       "      <th>0</th>\n",
       "      <td>0</td>\n",
       "      <td>NC and NH.</td>\n",
       "      <td>Trumpbart</td>\n",
       "      <td>politics</td>\n",
       "      <td>2</td>\n",
       "      <td>-1</td>\n",
       "      <td>-1</td>\n",
       "      <td>2016-10</td>\n",
       "      <td>2016-10-16 23:55:23</td>\n",
       "      <td>Yeah, I get that argument. At this point, I'd ...</td>\n",
       "    </tr>\n",
       "    <tr>\n",
       "      <th>1</th>\n",
       "      <td>0</td>\n",
       "      <td>You do know west teams play against west teams...</td>\n",
       "      <td>Shbshb906</td>\n",
       "      <td>nba</td>\n",
       "      <td>-4</td>\n",
       "      <td>-1</td>\n",
       "      <td>-1</td>\n",
       "      <td>2016-11</td>\n",
       "      <td>2016-11-01 00:24:10</td>\n",
       "      <td>The blazers and Mavericks (The wests 5 and 6 s...</td>\n",
       "    </tr>\n",
       "    <tr>\n",
       "      <th>2</th>\n",
       "      <td>0</td>\n",
       "      <td>They were underdogs earlier today, but since G...</td>\n",
       "      <td>Creepeth</td>\n",
       "      <td>nfl</td>\n",
       "      <td>3</td>\n",
       "      <td>3</td>\n",
       "      <td>0</td>\n",
       "      <td>2016-09</td>\n",
       "      <td>2016-09-22 21:45:37</td>\n",
       "      <td>They're favored to win.</td>\n",
       "    </tr>\n",
       "    <tr>\n",
       "      <th>3</th>\n",
       "      <td>0</td>\n",
       "      <td>This meme isn't funny none of the \"new york ni...</td>\n",
       "      <td>icebrotha</td>\n",
       "      <td>BlackPeopleTwitter</td>\n",
       "      <td>-8</td>\n",
       "      <td>-1</td>\n",
       "      <td>-1</td>\n",
       "      <td>2016-10</td>\n",
       "      <td>2016-10-18 21:03:47</td>\n",
       "      <td>deadass don't kill my buzz</td>\n",
       "    </tr>\n",
       "    <tr>\n",
       "      <th>4</th>\n",
       "      <td>0</td>\n",
       "      <td>I could use one of those tools.</td>\n",
       "      <td>cush2push</td>\n",
       "      <td>MaddenUltimateTeam</td>\n",
       "      <td>6</td>\n",
       "      <td>-1</td>\n",
       "      <td>-1</td>\n",
       "      <td>2016-12</td>\n",
       "      <td>2016-12-30 17:00:13</td>\n",
       "      <td>Yep can confirm I saw the tool they use for th...</td>\n",
       "    </tr>\n",
       "  </tbody>\n",
       "</table>\n",
       "</div>"
      ],
      "text/plain": [
       "   label                                            comment     author  \\\n",
       "0      0                                         NC and NH.  Trumpbart   \n",
       "1      0  You do know west teams play against west teams...  Shbshb906   \n",
       "2      0  They were underdogs earlier today, but since G...   Creepeth   \n",
       "3      0  This meme isn't funny none of the \"new york ni...  icebrotha   \n",
       "4      0                    I could use one of those tools.  cush2push   \n",
       "\n",
       "            subreddit  score  ups  downs     date          created_utc  \\\n",
       "0            politics      2   -1     -1  2016-10  2016-10-16 23:55:23   \n",
       "1                 nba     -4   -1     -1  2016-11  2016-11-01 00:24:10   \n",
       "2                 nfl      3    3      0  2016-09  2016-09-22 21:45:37   \n",
       "3  BlackPeopleTwitter     -8   -1     -1  2016-10  2016-10-18 21:03:47   \n",
       "4  MaddenUltimateTeam      6   -1     -1  2016-12  2016-12-30 17:00:13   \n",
       "\n",
       "                                      parent_comment  \n",
       "0  Yeah, I get that argument. At this point, I'd ...  \n",
       "1  The blazers and Mavericks (The wests 5 and 6 s...  \n",
       "2                            They're favored to win.  \n",
       "3                         deadass don't kill my buzz  \n",
       "4  Yep can confirm I saw the tool they use for th...  "
      ]
     },
     "execution_count": 3,
     "metadata": {},
     "output_type": "execute_result"
    }
   ],
   "source": [
    "sarcasm_df.head()\n"
   ]
  },
  {
   "cell_type": "code",
   "execution_count": 4,
   "metadata": {},
   "outputs": [
    {
     "name": "stdout",
     "output_type": "stream",
     "text": [
      "<class 'pandas.core.frame.DataFrame'>\n",
      "RangeIndex: 1010826 entries, 0 to 1010825\n",
      "Data columns (total 10 columns):\n",
      " #   Column          Non-Null Count    Dtype \n",
      "---  ------          --------------    ----- \n",
      " 0   label           1010826 non-null  int64 \n",
      " 1   comment         1010773 non-null  object\n",
      " 2   author          1010826 non-null  object\n",
      " 3   subreddit       1010826 non-null  object\n",
      " 4   score           1010826 non-null  int64 \n",
      " 5   ups             1010826 non-null  int64 \n",
      " 6   downs           1010826 non-null  int64 \n",
      " 7   date            1010826 non-null  object\n",
      " 8   created_utc     1010826 non-null  object\n",
      " 9   parent_comment  1010826 non-null  object\n",
      "dtypes: int64(4), object(6)\n",
      "memory usage: 77.1+ MB\n"
     ]
    }
   ],
   "source": [
    "sarcasm_df.info()\n"
   ]
  },
  {
   "cell_type": "code",
   "execution_count": 5,
   "metadata": {},
   "outputs": [
    {
     "data": {
      "image/png": "[encoded data removed]",
      "text/plain": [
       "<Figure size 500x500 with 1 Axes>"
      ]
     },
     "metadata": {},
     "output_type": "display_data"
    }
   ],
   "source": [
    "plt.figure(figsize=(5, 5))\n",
    "ax = sns.countplot(x=\"label\", data=sarcasm_df)\n",
    "ax.set(title=\"Distribution of Classes\", xlabel=\"Sarcasm Status\", ylabel=\"Total Count\")\n",
    "total = float(len(sarcasm_df))\n",
    "for p in ax.patches:\n",
    "    height = p.get_height()\n",
    "    ax.text(\n",
    "        p.get_x() + p.get_width() / 2.0,\n",
    "        height + 3,\n",
    "        \"{:1.1f}%\".format((height / total) * 100),\n",
    "        ha=\"center\",\n",
    "    )\n",
    "plt.show()\n"
   ]
  },
  {
   "cell_type": "code",
   "execution_count": 3,
   "metadata": {},
   "outputs": [
    {
     "data": {
      "text/plain": [
       "AskReddit          65677\n",
       "politics           39496\n",
       "worldnews          26377\n",
       "leagueoflegends    21037\n",
       "pcmasterrace       18988\n",
       "Name: subreddit, dtype: int64"
      ]
     },
     "execution_count": 3,
     "metadata": {},
     "output_type": "execute_result"
    }
   ],
   "source": [
    "sarcasm_df[\"subreddit\"].value_counts()[:5]\n"
   ]
  },
  {
   "cell_type": "code",
   "execution_count": 4,
   "metadata": {},
   "outputs": [],
   "source": [
    "top_reddits = [\"AskReddit\", \"politics\", \"worldnews\", \"leagueoflegends\", \"pcmasterrace\"]\n",
    "\n",
    "subreddit_df = pd.DataFrame()\n",
    "subreddit_df[\"subreddit\"] = top_reddits\n",
    "subreddit_df[\"sarcastic\"] = np.nan\n",
    "subreddit_df[\"natural\"] = np.nan\n",
    "subreddit_df[\"total\"] = np.nan\n",
    "\n",
    "# Calculating the count of Sarcastic and Natural comments for the top 5 subreddits\n",
    "for i in range(len(top_reddits)):\n",
    "    temp = sarcasm_df.loc[\n",
    "        sarcasm_df[\"subreddit\"] == subreddit_df.subreddit.iloc[i]\n",
    "    ].copy()\n",
    "    length = len(temp)\n",
    "    count_sarcastic = len(temp.loc[temp[\"label\"] == 1])\n",
    "    subreddit_df.loc[i, \"sarcastic\"] = count_sarcastic\n",
    "    subreddit_df.loc[i, \"natural\"] = length - count_sarcastic\n",
    "    subreddit_df.loc[i, \"total\"] = length\n"
   ]
  },
  {
   "cell_type": "code",
   "execution_count": 5,
   "metadata": {},
   "outputs": [
    {
     "data": {
      "text/html": [
       "<div>\n",
       "<style scoped>\n",
       "    .dataframe tbody tr th:only-of-type {\n",
       "        vertical-align: middle;\n",
       "    }\n",
       "\n",
       "    .dataframe tbody tr th {\n",
       "        vertical-align: top;\n",
       "    }\n",
       "\n",
       "    .dataframe thead th {\n",
       "        text-align: right;\n",
       "    }\n",
       "</style>\n",
       "<table border=\"1\" class=\"dataframe\">\n",
       "  <thead>\n",
       "    <tr style=\"text-align: right;\">\n",
       "      <th></th>\n",
       "      <th>subreddit</th>\n",
       "      <th>sarcastic</th>\n",
       "      <th>natural</th>\n",
       "      <th>total</th>\n",
       "    </tr>\n",
       "  </thead>\n",
       "  <tbody>\n",
       "    <tr>\n",
       "      <th>0</th>\n",
       "      <td>AskReddit</td>\n",
       "      <td>26367.0</td>\n",
       "      <td>39310.0</td>\n",
       "      <td>65677.0</td>\n",
       "    </tr>\n",
       "    <tr>\n",
       "      <th>1</th>\n",
       "      <td>politics</td>\n",
       "      <td>23910.0</td>\n",
       "      <td>15586.0</td>\n",
       "      <td>39496.0</td>\n",
       "    </tr>\n",
       "    <tr>\n",
       "      <th>2</th>\n",
       "      <td>worldnews</td>\n",
       "      <td>16948.0</td>\n",
       "      <td>9429.0</td>\n",
       "      <td>26377.0</td>\n",
       "    </tr>\n",
       "    <tr>\n",
       "      <th>3</th>\n",
       "      <td>leagueoflegends</td>\n",
       "      <td>11409.0</td>\n",
       "      <td>9628.0</td>\n",
       "      <td>21037.0</td>\n",
       "    </tr>\n",
       "    <tr>\n",
       "      <th>4</th>\n",
       "      <td>pcmasterrace</td>\n",
       "      <td>10760.0</td>\n",
       "      <td>8228.0</td>\n",
       "      <td>18988.0</td>\n",
       "    </tr>\n",
       "  </tbody>\n",
       "</table>\n",
       "</div>"
      ],
      "text/plain": [
       "         subreddit  sarcastic  natural    total\n",
       "0        AskReddit    26367.0  39310.0  65677.0\n",
       "1         politics    23910.0  15586.0  39496.0\n",
       "2        worldnews    16948.0   9429.0  26377.0\n",
       "3  leagueoflegends    11409.0   9628.0  21037.0\n",
       "4     pcmasterrace    10760.0   8228.0  18988.0"
      ]
     },
     "execution_count": 5,
     "metadata": {},
     "output_type": "execute_result"
    }
   ],
   "source": [
    "subreddit_df\n"
   ]
  },
  {
   "cell_type": "code",
   "execution_count": 6,
   "metadata": {},
   "outputs": [
    {
     "data": {
      "image/png": "[encoded data removed]",
      "text/plain": [
       "<Figure size 1500x500 with 1 Axes>"
      ]
     },
     "metadata": {},
     "output_type": "display_data"
    }
   ],
   "source": [
    "f, ax = plt.subplots(figsize=(15, 5))\n",
    "# Plot the total comments for the subreddits\n",
    "sns.barplot(x=\"total\", y=\"subreddit\", data=subreddit_df, label=\"Total\", color=\"b\")\n",
    "# Plot the total sarcastic comments for the subreddits\n",
    "sns.barplot(\n",
    "    x=\"sarcastic\",\n",
    "    y=\"subreddit\",\n",
    "    data=subreddit_df,\n",
    "    label=\"Sarcastic Comments\",\n",
    "    color=\"r\",\n",
    ")\n",
    "ax.legend(ncol=2, loc=\"lower right\", frameon=True)\n",
    "ax.set(ylabel=\"Subreddits\", xlabel=\"Total number of comments\")\n",
    "sns.despine(left=True, bottom=True)\n"
   ]
  },
  {
   "cell_type": "code",
   "execution_count": 10,
   "metadata": {},
   "outputs": [],
   "source": [
    "# Preprocessing\n"
   ]
  },
  {
   "cell_type": "code",
   "execution_count": 7,
   "metadata": {},
   "outputs": [
    {
     "data": {
      "text/html": [
       "<div>\n",
       "<style scoped>\n",
       "    .dataframe tbody tr th:only-of-type {\n",
       "        vertical-align: middle;\n",
       "    }\n",
       "\n",
       "    .dataframe tbody tr th {\n",
       "        vertical-align: top;\n",
       "    }\n",
       "\n",
       "    .dataframe thead th {\n",
       "        text-align: right;\n",
       "    }\n",
       "</style>\n",
       "<table border=\"1\" class=\"dataframe\">\n",
       "  <thead>\n",
       "    <tr style=\"text-align: right;\">\n",
       "      <th></th>\n",
       "      <th>label</th>\n",
       "      <th>comment</th>\n",
       "    </tr>\n",
       "  </thead>\n",
       "  <tbody>\n",
       "    <tr>\n",
       "      <th>0</th>\n",
       "      <td>0</td>\n",
       "      <td>NC and NH.</td>\n",
       "    </tr>\n",
       "    <tr>\n",
       "      <th>1</th>\n",
       "      <td>0</td>\n",
       "      <td>You do know west teams play against west teams...</td>\n",
       "    </tr>\n",
       "    <tr>\n",
       "      <th>2</th>\n",
       "      <td>0</td>\n",
       "      <td>They were underdogs earlier today, but since G...</td>\n",
       "    </tr>\n",
       "    <tr>\n",
       "      <th>3</th>\n",
       "      <td>0</td>\n",
       "      <td>This meme isn't funny none of the \"new york ni...</td>\n",
       "    </tr>\n",
       "    <tr>\n",
       "      <th>4</th>\n",
       "      <td>0</td>\n",
       "      <td>I could use one of those tools.</td>\n",
       "    </tr>\n",
       "  </tbody>\n",
       "</table>\n",
       "</div>"
      ],
      "text/plain": [
       "   label                                            comment\n",
       "0      0                                         NC and NH.\n",
       "1      0  You do know west teams play against west teams...\n",
       "2      0  They were underdogs earlier today, but since G...\n",
       "3      0  This meme isn't funny none of the \"new york ni...\n",
       "4      0                    I could use one of those tools."
      ]
     },
     "execution_count": 7,
     "metadata": {},
     "output_type": "execute_result"
    }
   ],
   "source": [
    "# We just need comment & label columns\n",
    "# So, let's remove others.\n",
    "sarcasm_df.drop(\n",
    "    [\n",
    "        \"author\",\n",
    "        \"subreddit\",\n",
    "        \"score\",\n",
    "        \"ups\",\n",
    "        \"downs\",\n",
    "        \"date\",\n",
    "        \"created_utc\",\n",
    "        \"parent_comment\",\n",
    "    ],\n",
    "    axis=1,\n",
    "    inplace=True,\n",
    ")\n",
    "# remove empty rows\n",
    "sarcasm_df.dropna(inplace=True)\n",
    "sarcasm_df.head()\n"
   ]
  },
  {
   "cell_type": "code",
   "execution_count": 8,
   "metadata": {},
   "outputs": [
    {
     "name": "stdout",
     "output_type": "stream",
     "text": [
      "<class 'pandas.core.frame.DataFrame'>\n",
      "Int64Index: 1010773 entries, 0 to 1010825\n",
      "Data columns (total 2 columns):\n",
      " #   Column   Non-Null Count    Dtype \n",
      "---  ------   --------------    ----- \n",
      " 0   label    1010773 non-null  int64 \n",
      " 1   comment  1010773 non-null  object\n",
      "dtypes: int64(1), object(1)\n",
      "memory usage: 23.1+ MB\n"
     ]
    }
   ],
   "source": [
    "# Here we inspect data for missing values\n",
    "sarcasm_df.info()\n"
   ]
  },
  {
   "cell_type": "code",
   "execution_count": 9,
   "metadata": {},
   "outputs": [
    {
     "name": "stderr",
     "output_type": "stream",
     "text": [
      "/tmp/ipykernel_348594/1034982800.py:5: FutureWarning: The default value of regex will change from True to False in a future version.\n",
      "  sarcasm_df[\"comment\"] = sarcasm_df[\"comment\"].str.replace(\"[^\\w\\s]\", \"\")\n"
     ]
    }
   ],
   "source": [
    "# Some comments are missing, so we drop the corresponding rows.\n",
    "sarcasm_df.dropna(subset=[\"comment\"], inplace=True)\n",
    "# also convert to lower case and remove punctuation\n",
    "sarcasm_df[\"comment\"] = sarcasm_df[\"comment\"].str.lower()\n",
    "sarcasm_df[\"comment\"] = sarcasm_df[\"comment\"].str.replace(\"[^\\w\\s]\", \"\")\n"
   ]
  },
  {
   "cell_type": "code",
   "execution_count": 10,
   "metadata": {},
   "outputs": [
    {
     "data": {
      "text/plain": [
       "0    505405\n",
       "1    505368\n",
       "Name: label, dtype: int64"
      ]
     },
     "execution_count": 10,
     "metadata": {},
     "output_type": "execute_result"
    }
   ],
   "source": [
    "# Now we compare the number of instances for each class (1 - sarcasm, 0 - not sarcasm). We can see, that the dataset is balanced and classes have almost the same size\n",
    "sarcasm_df[\"label\"].value_counts()\n"
   ]
  },
  {
   "cell_type": "code",
   "execution_count": 11,
   "metadata": {},
   "outputs": [],
   "source": [
    "x_train, x_test, y_train, y_test = train_test_split(\n",
    "    sarcasm_df[\"comment\"], sarcasm_df[\"label\"], test_size=0.3, random_state=42\n",
    ")\n"
   ]
  },
  {
   "cell_type": "code",
   "execution_count": 16,
   "metadata": {},
   "outputs": [
    {
     "name": "stdout",
     "output_type": "stream",
     "text": [
      "Logistic regression accuracy:  0.7195513666103841\n"
     ]
    }
   ],
   "source": [
    "# create tf-idf encoder\n",
    "tf_idf = TfidfVectorizer(ngram_range=(1, 2), max_features=50000, min_df=2)\n",
    "# encode training data\n",
    "train_features = tf_idf.fit_transform(x_train)\n",
    "# encode test data\n",
    "test_features = tf_idf.transform(x_test)\n",
    "\n",
    "# logistic regression model with tf-idf encoder\n",
    "log_reg = LogisticRegression(random_state=42, max_iter=1000)\n",
    "log_reg.fit(train_features, y_train)\n",
    "pred_labels_log_reg = log_reg.predict(test_features)\n",
    "print(\"Logistic regression accuracy: \", accuracy_score(y_test, pred_labels_log_reg))\n"
   ]
  },
  {
   "cell_type": "code",
   "execution_count": 43,
   "metadata": {},
   "outputs": [],
   "source": [
    "# load the GloVe embeddings from a text file\n",
    "def load_glove_embeddings(file):\n",
    "    embeddings = {}\n",
    "    with open(file, \"r\", encoding=\"utf-8\") as f:\n",
    "        for line in f:\n",
    "            values = line.split()\n",
    "            word = values[0]\n",
    "            vector = np.asarray(values[1:], dtype=\"float32\")\n",
    "            embeddings[word] = vector\n",
    "    return embeddings\n",
    "\n",
    "# function that returns the mean of the word embeddings for a sentence\n",
    "def glove_mean(sentence, embeddings, dim=100):\n",
    "    words = sentence.split()\n",
    "    vectors = np.zeros((len(words), dim))\n",
    "    for i, word in enumerate(words):\n",
    "        if word in embeddings:\n",
    "            vectors[i] = embeddings[word]\n",
    "    # check if vectors is empty or contains nan values\n",
    "    if np.isnan(vectors).any() or len(vectors) == 0:\n",
    "        # replace with zeros or random numbers\n",
    "        return np.zeros(dim)\n",
    "        # return np.random.rand(dim)\n",
    "    else:\n",
    "        return np.mean(vectors, axis=0)\n",
    "\n",
    "\n",
    "# load the GloVe embeddings\n",
    "glove_file = \"glove.6B.100d.txt\"\n",
    "glove_embeddings = load_glove_embeddings(glove_file)"
   ]
  },
  {
   "cell_type": "code",
   "execution_count": 44,
   "metadata": {},
   "outputs": [],
   "source": [
    "# encode the training and test data using GloVe mean-pooling and convert them to PyTorch tensors\n",
    "X_train_glove = torch.tensor(\n",
    "    [glove_mean(sent, glove_embeddings) for sent in x_train], dtype=torch.float32\n",
    ")\n",
    "X_test_glove = torch.tensor(\n",
    "    [glove_mean(sent, glove_embeddings) for sent in x_test], dtype=torch.float32\n",
    ")\n",
    "\n",
    "# convert Y_train and Y_test to PyTorch tensors\n",
    "Y_train_glove = torch.tensor(y_train.values, dtype=torch.long)\n",
    "Y_test_glove = torch.tensor(y_test.values, dtype=torch.long)\n",
    "\n",
    "# convert the labels to PyTorch tensors\n",
    "y_train_tensor = torch.tensor(y_train.values, dtype=torch.long)\n",
    "y_test_tensor = torch.tensor(y_test.values, dtype=torch.long)"
   ]
  },
  {
   "cell_type": "code",
   "execution_count": 52,
   "metadata": {},
   "outputs": [],
   "source": [
    "# the MLP model with one hidden layer of size 50, batch normalization, and ReLU activation\n",
    "class MLP(nn.Module):\n",
    "    def __init__(self, input_size=100, hidden_size=100, output_size=2):\n",
    "        super(MLP, self).__init__()\n",
    "        self.fc1 = nn.Linear(input_size, hidden_size)\n",
    "        self.bn1 = nn.BatchNorm1d(hidden_size)\n",
    "        self.dropout1 = nn.Dropout(0.5)\n",
    "        self.act1 = nn.ReLU()\n",
    "        self.fc2 = nn.Linear(hidden_size, output_size)\n",
    "        self.dropout2 = nn.Dropout(0.5)\n",
    "        self.act2 = nn.Softmax(dim=1)\n",
    "\n",
    "    def forward(self, x):\n",
    "        x = self.fc1(x)\n",
    "        x = self.bn1(x)\n",
    "        x = self.dropout1(x)\n",
    "        x = self.act1(x)\n",
    "        x = self.fc2(x)\n",
    "        x = self.dropout2(x)\n",
    "        x = self.act2(x)\n",
    "        return x\n"
   ]
  },
  {
   "cell_type": "code",
   "execution_count": 53,
   "metadata": {},
   "outputs": [
    {
     "name": "stdout",
     "output_type": "stream",
     "text": [
      "Epoch 1, loss: 0.7176\n",
      "Epoch 2, loss: 0.7132\n",
      "Epoch 3, loss: 0.7086\n",
      "Epoch 4, loss: 0.7050\n",
      "Epoch 5, loss: 0.7022\n",
      "Epoch 6, loss: 0.6999\n",
      "Epoch 7, loss: 0.6972\n",
      "Epoch 8, loss: 0.6955\n",
      "Epoch 9, loss: 0.6942\n",
      "Epoch 10, loss: 0.6930\n",
      "Epoch 11, loss: 0.6914\n",
      "Epoch 12, loss: 0.6902\n",
      "Epoch 13, loss: 0.6894\n",
      "Epoch 14, loss: 0.6885\n",
      "Epoch 15, loss: 0.6874\n",
      "Epoch 16, loss: 0.6865\n",
      "Epoch 17, loss: 0.6857\n",
      "Epoch 18, loss: 0.6849\n",
      "Epoch 19, loss: 0.6840\n",
      "Epoch 20, loss: 0.6836\n",
      "Epoch 21, loss: 0.6830\n",
      "Epoch 22, loss: 0.6822\n",
      "Epoch 23, loss: 0.6814\n",
      "Epoch 24, loss: 0.6811\n",
      "Epoch 25, loss: 0.6804\n",
      "Epoch 26, loss: 0.6802\n",
      "Epoch 27, loss: 0.6796\n",
      "Epoch 28, loss: 0.6791\n",
      "Epoch 29, loss: 0.6790\n",
      "Epoch 30, loss: 0.6785\n",
      "Epoch 31, loss: 0.6781\n",
      "Epoch 32, loss: 0.6779\n",
      "Epoch 33, loss: 0.6773\n",
      "Epoch 34, loss: 0.6770\n",
      "Epoch 35, loss: 0.6767\n",
      "Epoch 36, loss: 0.6760\n",
      "Epoch 37, loss: 0.6756\n",
      "Epoch 38, loss: 0.6754\n",
      "Epoch 39, loss: 0.6751\n",
      "Epoch 40, loss: 0.6751\n",
      "Epoch 41, loss: 0.6746\n",
      "Epoch 42, loss: 0.6742\n",
      "Epoch 43, loss: 0.6744\n",
      "Epoch 44, loss: 0.6743\n",
      "Epoch 45, loss: 0.6738\n",
      "Epoch 46, loss: 0.6736\n",
      "Epoch 47, loss: 0.6731\n",
      "Epoch 48, loss: 0.6733\n",
      "Epoch 49, loss: 0.6729\n",
      "Epoch 50, loss: 0.6728\n",
      "Epoch 51, loss: 0.6726\n",
      "Epoch 52, loss: 0.6724\n",
      "Epoch 53, loss: 0.6724\n",
      "Epoch 54, loss: 0.6721\n",
      "Epoch 55, loss: 0.6720\n",
      "Epoch 56, loss: 0.6715\n",
      "Epoch 57, loss: 0.6710\n",
      "Epoch 58, loss: 0.6713\n",
      "Epoch 59, loss: 0.6711\n",
      "Epoch 60, loss: 0.6707\n",
      "Epoch 61, loss: 0.6707\n",
      "Epoch 62, loss: 0.6707\n",
      "Epoch 63, loss: 0.6705\n",
      "Epoch 64, loss: 0.6706\n",
      "Epoch 65, loss: 0.6704\n",
      "Epoch 66, loss: 0.6701\n",
      "Epoch 67, loss: 0.6697\n",
      "Epoch 68, loss: 0.6698\n",
      "Epoch 69, loss: 0.6699\n",
      "Epoch 70, loss: 0.6694\n",
      "Epoch 71, loss: 0.6692\n",
      "Epoch 72, loss: 0.6689\n",
      "Epoch 73, loss: 0.6688\n",
      "Epoch 74, loss: 0.6685\n",
      "Epoch 75, loss: 0.6686\n",
      "Epoch 76, loss: 0.6685\n",
      "Epoch 77, loss: 0.6686\n",
      "Epoch 78, loss: 0.6684\n",
      "Epoch 79, loss: 0.6682\n",
      "Epoch 80, loss: 0.6680\n",
      "Epoch 81, loss: 0.6680\n",
      "Epoch 82, loss: 0.6678\n",
      "Epoch 83, loss: 0.6675\n",
      "Epoch 84, loss: 0.6677\n",
      "Epoch 85, loss: 0.6674\n",
      "Epoch 86, loss: 0.6673\n",
      "Epoch 87, loss: 0.6674\n",
      "Epoch 88, loss: 0.6672\n",
      "Epoch 89, loss: 0.6668\n",
      "Epoch 90, loss: 0.6671\n",
      "Epoch 91, loss: 0.6667\n",
      "Epoch 92, loss: 0.6667\n",
      "Epoch 93, loss: 0.6667\n",
      "Epoch 94, loss: 0.6664\n",
      "Epoch 95, loss: 0.6664\n",
      "Epoch 96, loss: 0.6662\n",
      "Epoch 97, loss: 0.6661\n",
      "Epoch 98, loss: 0.6659\n",
      "Epoch 99, loss: 0.6661\n",
      "Epoch 100, loss: 0.6654\n",
      "Multilayer perceptron accuracy: 0.5842292370198396\n"
     ]
    }
   ],
   "source": [
    "mlp = MLP()\n",
    "\n",
    "criterion = nn.CrossEntropyLoss()\n",
    "optimizer = Adam(mlp.parameters(), lr=0.001, weight_decay=1e-4)\n",
    "\n",
    "epochs = 100\n",
    "\n",
    "for epoch in range(epochs):\n",
    "    optimizer.zero_grad()\n",
    "    outputs = mlp(X_train_glove)\n",
    "    loss = criterion(outputs, y_train_tensor)\n",
    "    loss.backward()\n",
    "    optimizer.step()\n",
    "\n",
    "    print(f\"Epoch {epoch+1}, loss: {loss.item():.4f}\")\n",
    "\n",
    "# forward pass through the model on the test data\n",
    "outputs = mlp(X_test_glove)\n",
    "# get the predicted labels by taking the argmax of the outputs\n",
    "pred_labels_mlp = torch.argmax(outputs, dim=1)\n",
    "print(\"Multilayer perceptron accuracy:\", accuracy_score(y_test_tensor, pred_labels_mlp))"
   ]
  },
  {
   "cell_type": "code",
   "execution_count": 54,
   "metadata": {},
   "outputs": [
    {
     "name": "stdout",
     "output_type": "stream",
     "text": [
      "Classification report:\n",
      "              precision    recall  f1-score   support\n",
      "\n",
      "           0       0.56      0.73      0.64    151387\n",
      "           1       0.62      0.44      0.51    151845\n",
      "\n",
      "    accuracy                           0.58    303232\n",
      "   macro avg       0.59      0.58      0.57    303232\n",
      "weighted avg       0.59      0.58      0.57    303232\n",
      "\n"
     ]
    }
   ],
   "source": [
    "# generate the classification report\n",
    "report = classification_report(y_test_tensor, pred_labels_mlp)\n",
    "print(\"Classification report:\")\n",
    "print(report)\n"
   ]
  },
  {
   "cell_type": "code",
   "execution_count": 55,
   "metadata": {},
   "outputs": [
    {
     "data": {
      "image/png": "[encoded data removed]",
      "text/plain": [
       "<Figure size 800x600 with 1 Axes>"
      ]
     },
     "metadata": {},
     "output_type": "display_data"
    }
   ],
   "source": [
    "# plot Confusion Matrix\n",
    "cm = pd.DataFrame(confusion_matrix(y_test_tensor, pred_labels_mlp), index=['NOT SARCASTIC','SARCASTIC'], columns=['NOT SARCASTIC', 'SARCASTIC'])\n",
    "\n",
    "fig = plt.figure(figsize=(8,6))\n",
    "ax = sns.heatmap(cm, annot=True, cbar=False, cmap='Blues', linewidths=0.5,fmt='.0f')\n",
    "ax.set_title('SARCASM DETECTION CONFUSION MATRIX', fontsize=16,y=1.25)\n",
    "ax.set_ylabel('ACTUAL', fontsize=14)\n",
    "ax.set_xlabel('PREDICTED', fontsize=14)\n",
    "ax.xaxis.set_ticks_position('top')\n",
    "ax.xaxis.set_label_position('top')\n",
    "ax.tick_params(labelsize=12)"
   ]
  },
  {
   "cell_type": "code",
   "execution_count": null,
   "metadata": {},
   "outputs": [],
   "source": []
  }
 ],
 "metadata": {
  "kernelspec": {
   "display_name": "nlp",
   "language": "python",
   "name": "python3"
  },
  "language_info": {
   "codemirror_mode": {
    "name": "ipython",
    "version": 3
   },
   "file_extension": ".py",
   "mimetype": "text/x-python",
   "name": "python",
   "nbconvert_exporter": "python",
   "pygments_lexer": "ipython3",
   "version": "3.11.3"
  },
  "orig_nbformat": 4
 },
 "nbformat": 4,
 "nbformat_minor": 2
}
